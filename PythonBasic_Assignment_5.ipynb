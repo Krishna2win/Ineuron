{
 "cells": [
  {
   "cell_type": "code",
   "execution_count": null,
   "id": "8bb99368",
   "metadata": {},
   "outputs": [],
   "source": [
    "1. What does an empty dictionary is code look like?\n",
    "\n",
    "==>\n",
    "\n",
    "An empty dictionary is represented by a pair of curly braces with nothing inside them. \n",
    "empty_dict = {}\n"
   ]
  },
  {
   "cell_type": "code",
   "execution_count": null,
   "id": "61c70f42",
   "metadata": {},
   "outputs": [],
   "source": [
    "2. What is the value of a dictionary value with the key 'foo'and the value 42?\n",
    "\n",
    "==>\n",
    "\n",
    "A dictionary value is accessed using its associated key. If the key 'foo' is associated with the value 42 in the dictionary\n",
    "\n",
    "my_dict = {'foo': 42}\n",
    "\n",
    "value_of_foo = my_dict['foo']\n"
   ]
  },
  {
   "cell_type": "code",
   "execution_count": null,
   "id": "2335bdaf",
   "metadata": {},
   "outputs": [],
   "source": [
    "3. What is the most significant distinction between a dictionary and a list?\n",
    "\n",
    "==>\n",
    "\n",
    "Data Structure:\n",
    "\n",
    "    List:\n",
    "        A list is an ordered collection of elements, and each element is accessed by its position or index in the list. \n",
    "        Lists are defined using square brackets [].\n",
    "    \n",
    "    Dictionary: \n",
    "        A dictionary is an unordered collection of key-value pairs, where each value is accessed by its associated key. \n",
    "        Dictionaries are defined using curly braces {}.\n",
    "\n",
    "Accessing Elements:\n",
    "\n",
    "    List: \n",
    "        Elements in a list are accessed using integer indices. For example, my_list[0] would give you the first \n",
    "        element in the list.\n",
    "        \n",
    "    Dictionary: \n",
    "        Values in a dictionary are accessed using their corresponding keys. \n",
    "        For example, my_dict['key'] would give you the value associated with the key 'key'.\n",
    "\n",
    "Ordering:\n",
    "\n",
    "    List: \n",
    "        Lists maintain the order of elements based on their index. \n",
    "        The order of elements in a list is significant and is preserved.\n",
    "        \n",
    "    Dictionary: \n",
    "        Dictionaries do not have an inherent order. \n",
    "        The elements are stored in an unordered manner, and the order of insertion is not guaranteed.\n",
    "\n",
    "Mutability:\n",
    "\n",
    "    List: \n",
    "        Lists are mutable, which means you can change their elements, add new elements, or remove existing elements.\n",
    "\n",
    "    Dictionary: \n",
    "        Dictionaries are also mutable, allowing you to add, modify, or delete key-value pairs."
   ]
  },
  {
   "cell_type": "code",
   "execution_count": null,
   "id": "9cfe2662",
   "metadata": {},
   "outputs": [],
   "source": [
    "4. What happens if you try to access spam['foo'] if spam is {'bar': 100}?\n",
    "\n",
    "==>\n",
    "\n",
    "If you try to access spam['foo'] with spam being { 'bar': 100 }, you will get a KeyError. \n",
    "The reason is that the key 'foo' does not exist in the spam dictionary."
   ]
  },
  {
   "cell_type": "code",
   "execution_count": null,
   "id": "f5fa30ed",
   "metadata": {},
   "outputs": [],
   "source": [
    "5. If a dictionary is stored in spam, what is the difference between the expressions 'cat' in spam and\n",
    "'cat' in spam.keys()?\n",
    "\n",
    "==>\n",
    "\n",
    "'cat' in spam:\n",
    "\n",
    "This expression checks if the key 'cat' exists in the dictionary spam.\n",
    "It returns a Boolean value (True or False) depending on whether the key is present in the dictionary or not.\n",
    "This method is generally preferred as it directly checks for the key is existence without having to extract \n",
    "the dictionary keys explicitly.\n",
    "\n",
    "'cat' in spam.keys():\n",
    "\n",
    "This expression first extracts all the keys from the dictionary spam using the keys() method and then checks \n",
    "if 'cat' exists among those keys.\n",
    "It also returns a Boolean value (True or False) based on the presence of the key in the dictionary.\n",
    "This method works, but it involves an additional step of creating a view of all the keys in the dictionary and \n",
    "then searching for the key in that view."
   ]
  },
  {
   "cell_type": "code",
   "execution_count": null,
   "id": "2bc32ac4",
   "metadata": {},
   "outputs": [],
   "source": [
    "6. If a dictionary is stored in spam, what is the difference between the expressions 'cat' in spam and\n",
    "'cat' in spam.values()?\n",
    "\n",
    "==>\n",
    "\n",
    "'cat' in spam:\n",
    "\n",
    "This expression checks if the string 'cat' is a key in the dictionary spam.\n",
    "It returns a Boolean value (True or False) depending on whether the key 'cat' is present in the dictionary or not.\n",
    "This method is used to check if the specified key exists in the dictionary.\n",
    "\n",
    "'cat' in spam.values():\n",
    "\n",
    "This expression checks if the string 'cat' is a value in the dictionary spam.\n",
    "It returns a Boolean value (True or False) depending on whether the value 'cat' is present among the values in \n",
    "the dictionary or not.\n",
    "This method is used to check if the specified value exists in the dictionary."
   ]
  },
  {
   "cell_type": "code",
   "execution_count": null,
   "id": "ad0ecdcc",
   "metadata": {},
   "outputs": [],
   "source": [
    "7. What is a shortcut for the following code?\n",
    "if 'color' not in spam:\n",
    "spam['color'] = 'black'\n",
    "\n",
    "==>\n",
    "\n",
    "The shortcut for \n",
    "\n",
    "if 'color' not in spam:\n",
    "spam['color'] = 'black' \n",
    "\n",
    "is following :\n",
    "    \n",
    "spam.setdefault('color', 'black')\n"
   ]
  },
  {
   "cell_type": "code",
   "execution_count": null,
   "id": "88394526",
   "metadata": {},
   "outputs": [],
   "source": [
    "8. How do you \"pretty print\" dictionary values using which module and function?\n",
    "\n",
    "==>\n",
    "\n",
    "The pprint module, which stands for \"pretty-print.\" The pprint module provides a function called pprint() that formats \n",
    "the dictionary (and other data structures) in a more readable and aesthetically pleasing way. \n",
    "This is especially useful when you have nested dictionaries or lists within the main dictionary.\n",
    "\n",
    "import pprint\n",
    "\n",
    "\n",
    "my_dict = {'name': 'Krishna', 'age': 24, 'city': 'Mumbai', 'hobbies': ['reading', 'traveling']}\n",
    "\n",
    "\n",
    "pprint.pprint(my_dict)\n"
   ]
  }
 ],
 "metadata": {
  "kernelspec": {
   "display_name": "Python 3 (ipykernel)",
   "language": "python",
   "name": "python3"
  },
  "language_info": {
   "codemirror_mode": {
    "name": "ipython",
    "version": 3
   },
   "file_extension": ".py",
   "mimetype": "text/x-python",
   "name": "python",
   "nbconvert_exporter": "python",
   "pygments_lexer": "ipython3",
   "version": "3.10.9"
  }
 },
 "nbformat": 4,
 "nbformat_minor": 5
}
