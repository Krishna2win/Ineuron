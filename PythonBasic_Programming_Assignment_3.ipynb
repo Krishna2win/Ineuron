{
 "cells": [
  {
   "cell_type": "code",
   "execution_count": null,
   "id": "0e8aa5fa",
   "metadata": {},
   "outputs": [],
   "source": [
    "1. Write a Python Program to Check if a Number is Positive, Negative or Zero?\n",
    "\n",
    "==>\n",
    "\n",
    "num = float(input(\"Input a number: \"))\n",
    "if num > 0:\n",
    "   print(\"It is positive number\")\n",
    "elif num == 0:\n",
    "   print(\"It is Zero\")\n",
    "else:\n",
    "   print(\"It is a negative number\")\n",
    "   "
   ]
  },
  {
   "cell_type": "code",
   "execution_count": null,
   "id": "2d7796ad",
   "metadata": {},
   "outputs": [],
   "source": [
    "2. Write a Python Program to Check if a Number is Odd or Even?\n",
    "\n",
    "==>\n",
    "\n",
    "num = int (input (“Enter any number : “)\n",
    "\n",
    "if (num % 2) == 0:\n",
    "\n",
    "              print (“The number is even”)\n",
    "\n",
    "else:\n",
    "\n",
    "              print (“The provided number is odd”)"
   ]
  },
  {
   "cell_type": "code",
   "execution_count": null,
   "id": "0546c209",
   "metadata": {},
   "outputs": [],
   "source": [
    "3. Write a Python Program to Check Leap Year?\n",
    "\n",
    "==>\n",
    "\n",
    "year = int(input('Enter year : '))\n",
    " \n",
    "if (year%4 == 0 and year%100 != 0) or (year%400 == 0) :\n",
    "    print(year, \"is a leap year.\")\n",
    "else :\n",
    "    print(year, \"is not a leap year.\")\n"
   ]
  },
  {
   "cell_type": "code",
   "execution_count": null,
   "id": "d3b179b3",
   "metadata": {},
   "outputs": [],
   "source": [
    "4. Write a Python Program to Check Prime Number?\n",
    "\n",
    "==>\n",
    "\n",
    "num=int(input(\"Enter number: \"))\n",
    "k=0\n",
    "for i in range(2,num//2+1):\n",
    "    if(num%i==0):\n",
    "        k=k+1\n",
    "if(k<=0):\n",
    "    print(\"Number is prime\")\n",
    "else:\n",
    "    print(\"Number isn't prime\")"
   ]
  },
  {
   "cell_type": "code",
   "execution_count": null,
   "id": "50d16318",
   "metadata": {},
   "outputs": [],
   "source": [
    "5. Write a Python Program to Print all Prime Numbers in an Interval of 1-10000?\n",
    "\n",
    "==>\n",
    "\n",
    "lower = 1\n",
    "upper = 10000\n",
    "\n",
    "print(\"Prime numbers between\", lower, \"and\", upper, \"are:\")\n",
    "\n",
    "for num in range(lower, upper + 1):\n",
    "   \n",
    "   if num > 1:\n",
    "       for i in range(2, num):\n",
    "           if (num % i) == 0:\n",
    "               break\n",
    "       else:\n",
    "           print(num)"
   ]
  }
 ],
 "metadata": {
  "kernelspec": {
   "display_name": "Python 3 (ipykernel)",
   "language": "python",
   "name": "python3"
  },
  "language_info": {
   "codemirror_mode": {
    "name": "ipython",
    "version": 3
   },
   "file_extension": ".py",
   "mimetype": "text/x-python",
   "name": "python",
   "nbconvert_exporter": "python",
   "pygments_lexer": "ipython3",
   "version": "3.10.9"
  }
 },
 "nbformat": 4,
 "nbformat_minor": 5
}
