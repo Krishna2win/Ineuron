{
 "cells": [
  {
   "cell_type": "code",
   "execution_count": null,
   "id": "5494e51a",
   "metadata": {},
   "outputs": [],
   "source": [
    "1. Write a Python Program to Find LCM?\n",
    "\n",
    "==>\n",
    "\n",
    "a=int(input(\"Enter the first number:\"))\n",
    "b=int(input(\"Enter the second number:\"))\n",
    "if(a>b):\n",
    "    min1=a\n",
    "else:\n",
    "    min1=b\n",
    "while(1):\n",
    "    if(min1%a==0 and min1%b==0):\n",
    "        print(\"LCM is:\",min1)\n",
    "        break\n",
    "    min1=min1+1"
   ]
  },
  {
   "cell_type": "code",
   "execution_count": null,
   "id": "1c130926",
   "metadata": {},
   "outputs": [],
   "source": [
    "2. Write a Python Program to Find HCF?\n",
    "\n",
    "==>\n",
    "\n",
    "num1 = int(input(\"Enter first number: \"))  \n",
    "num2 = int(input(\"Enter second number: \"))  \n",
    "\n",
    "if num1 > num2:\n",
    "    minimum = num2\n",
    "else:\n",
    "    minimum = num1\n",
    "\n",
    "for i in range(1, minimum+1):\n",
    "    if((num1 % i == 0) and (num2 % i == 0)):\n",
    "        hcf = i \n",
    "print(\"hcf of\",num1,\"and\",num2,\"=\",hcf)"
   ]
  },
  {
   "cell_type": "code",
   "execution_count": null,
   "id": "25ffe18b",
   "metadata": {},
   "outputs": [],
   "source": [
    "3. Write a Python Program to Convert Decimal to Binary, Octal and Hexadecimal?\n",
    "\n",
    "==>\n",
    "\n",
    "dec = int(input(\"Enter an integer: \"))\n",
    "print(\"The decimal value of\",dec,\"is:\")\n",
    "print(bin(dec),\"in binary.\")\n",
    "print(oct(dec),\"in octal.\")\n",
    "print(hex(dec),\"in hexadecimal.\")"
   ]
  },
  {
   "cell_type": "code",
   "execution_count": null,
   "id": "e84dc7f6",
   "metadata": {},
   "outputs": [],
   "source": [
    "4. Write a Python Program To Find ASCII value of a character?\n",
    "\n",
    "==>\n",
    "\n",
    "ch = input(\"Enter character: \")\n",
    "\n",
    "asc = ord(ch)\n",
    "print(\"ASCII code of\",ch,\"is:\", asc)"
   ]
  },
  {
   "cell_type": "code",
   "execution_count": null,
   "id": "9f2ff46c",
   "metadata": {},
   "outputs": [],
   "source": [
    "5. Write a Python Program to Make a Simple Calculator with 4 basic mathematical operations?\n",
    "\n",
    "==>\n",
    "\n",
    "num_1 = int(input('Enter your first number: '))\n",
    "num_2 = int(input('Enter your second number: '))\n",
    "\n",
    "print('{} + {} = '.format(num_1, num_2))\n",
    "print(num_1 + num_2)\n",
    "\n",
    "print('{} - {} = '.format(num_1, num_2))\n",
    "print(num_1 - num_2)\n",
    "\n",
    "print('{} * {} = '.format(num_1, num_2))\n",
    "print(num_1 * num_2)\n",
    "\n",
    "print('{} / {} = '.format(num_1, num_2))\n",
    "print(num_1 / num_2)"
   ]
  }
 ],
 "metadata": {
  "kernelspec": {
   "display_name": "Python 3 (ipykernel)",
   "language": "python",
   "name": "python3"
  },
  "language_info": {
   "codemirror_mode": {
    "name": "ipython",
    "version": 3
   },
   "file_extension": ".py",
   "mimetype": "text/x-python",
   "name": "python",
   "nbconvert_exporter": "python",
   "pygments_lexer": "ipython3",
   "version": "3.10.9"
  }
 },
 "nbformat": 4,
 "nbformat_minor": 5
}
