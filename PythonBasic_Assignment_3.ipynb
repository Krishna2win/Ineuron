{
 "cells": [
  {
   "cell_type": "code",
   "execution_count": null,
   "id": "a3ed681a",
   "metadata": {},
   "outputs": [],
   "source": [
    "1. Why are functions advantageous to have in your programs?\n",
    "\n",
    "==>\n",
    "\n",
    "Reusability: \n",
    "    Functions allow you to write a block of code that can be reused multiple times throughout your program. \n",
    "    Instead of writing the same code in multiple places, you can define a function once and then call it whenever needed,\n",
    "    making your code more concise and easier to maintain.\n",
    "\n",
    "Modularity: \n",
    "    Functions break down your code into smaller, manageable pieces. \n",
    "    This modular approach makes it easier to understand, debug, and maintain your codebase. \n",
    "    Each function focuses on a specific task, and by combining them, you can build complex programs.\n",
    "\n",
    "Abstraction: \n",
    "    Functions provide a level of abstraction, allowing you to hide the implementation details of a particular functionality. \n",
    "    You can use a function without knowing how it is internally implemented, which simplifies the usage and promotes a clearer\n",
    "    separation of concerns.\n",
    "\n",
    "Readability: \n",
    "    Well-named functions with clear purposes can improve the readability of your code. \n",
    "    By giving descriptive names to functions, it becomes easier for others (and yourself) to understand \n",
    "    the purpose and functionality of different parts of the program.\n",
    "\n",
    "Testing and Debugging: \n",
    "    Functions make it easier to test and debug your code. \n",
    "    Since each function serves a specific purpose, you can test them individually, \n",
    "    making it simpler to identify and fix issues.\n",
    "\n",
    "Encapsulation: \n",
    "    Functions can help in encapsulating a piece of functionality or logic, making it easier to manage and reason about the code.\n",
    "    By separating concerns into functions, you can control access to variables and prevent unintended modifications.\n",
    "\n",
    "Maintainability: \n",
    "    When your code is divided into smaller functions, it becomes more maintainable over time. \n",
    "    Changes and updates can be made to specific functions without affecting the rest of the program.\n",
    "\n",
    "Code Organization: \n",
    "    Functions improve the overall organization of your code. \n",
    "    They allow you to group related operations together, making it easier to navigate and understand \n",
    "    the structure of your program."
   ]
  },
  {
   "cell_type": "code",
   "execution_count": null,
   "id": "894db209",
   "metadata": {},
   "outputs": [],
   "source": [
    "2. When does the code in a function run: when it is specified or when it is called?\n",
    "    \n",
    "==>\n",
    "\n",
    "The code in a function runs when it is called, not when it is specified or defined.\n",
    "\n",
    "Function definition merely defines the structure and behavior of the function, stating what the function does and \n",
    "how it should behave when invoked. However, the actual execution of the code inside the function occurs only \n",
    "when the function is called.\n",
    "\n",
    "To execute the code within a function, you need to call the function by using its name followed by parentheses '()'. \n",
    "When the function is called, the program flow jumps to the function is code block and executes the statements within that block."
   ]
  },
  {
   "cell_type": "code",
   "execution_count": null,
   "id": "82a26b31",
   "metadata": {},
   "outputs": [],
   "source": [
    "3. What statement creates a function?\n",
    "\n",
    "==>\n",
    "\n",
    "The statement that creates a function is called the \"function declaration\" or \"function definition.\"\n",
    "In Python, the def keyword is used to define a function."
   ]
  },
  {
   "cell_type": "code",
   "execution_count": null,
   "id": "4771d06c",
   "metadata": {},
   "outputs": [],
   "source": [
    "4. What is the difference between a function and a function call?\n",
    "\n",
    "==>\n",
    "\n",
    "A function is a defined block of code with a specific purpose, and a function call is the act of invoking that \n",
    "function to execute its code with specific input values (arguments) and possibly get a result (return value)."
   ]
  },
  {
   "cell_type": "code",
   "execution_count": null,
   "id": "9c0cad2d",
   "metadata": {},
   "outputs": [],
   "source": [
    "5. How many global scopes are there in a Python program? How many local scopes?\n",
    "\n",
    "==>\n",
    "\n",
    "In Python, you can declare as many global and local variables as needed in your program. \n",
    "There is no fixed limit on the number of global or local variables you can create. \n",
    "The number of variables you can declare is limited only by the available memory of your system.\n"
   ]
  },
  {
   "cell_type": "code",
   "execution_count": null,
   "id": "83db17e4",
   "metadata": {},
   "outputs": [],
   "source": [
    "6. What happens to variables in a local scope when the function call returns?\n",
    "\n",
    "==>\n",
    "\n",
    "Here is what happens to variables in a local scope when a function call returns:\n",
    "\n",
    "Scope Exit: \n",
    "    When the function call is completed, either by reaching the end of the function code or encountering a return statement, \n",
    "    the local scope is exited.\n",
    "\n",
    "Variable Deletion: \n",
    "    All variables that were defined within the function is local scope (excluding any variables that were declared as global \n",
    "    or nonlocal) are deleted, and the memory associated with them is freed.\n",
    "\n",
    "Return Value (Optional): \n",
    "    If the function contains a return statement with an expression, the expression is evaluated, \n",
    "    and the returned value is sent back to the caller. If no return statement is present or the function has an empty return, \n",
    "    it implicitly returns None.\n",
    "\n",
    "Control Returns to the Caller: \n",
    "    After the function call completes, the control returns to the line of code in the calling context immediately \n",
    "    after the function call."
   ]
  },
  {
   "cell_type": "code",
   "execution_count": null,
   "id": "535bf967",
   "metadata": {},
   "outputs": [],
   "source": [
    "7. What is the concept of a return value? Is it possible to have a return value in an expression?\n",
    "\n",
    "==>\n",
    "\n",
    "The concept of a return value in programming refers to the value that a function provides as its output when it is called. \n",
    "When a function is executed, it may perform certain operations and produce a result. This result can be communicated back \n",
    "to the caller of the function using the return statement.\n",
    "A function can have a return value. The return statement allows a function to specify the value it wants to return \n",
    "to the caller. When the return statement is encountered in the function is code, the function immediately exits, \n",
    "and the specified value is passed back to the caller."
   ]
  },
  {
   "cell_type": "code",
   "execution_count": null,
   "id": "ac0d4e77",
   "metadata": {},
   "outputs": [],
   "source": [
    "8. If a function does not have a return statement, what is the return value of a call to that function?\n",
    "\n",
    "==>\n",
    "\n",
    "If a function does not have a return statement or the return statement is missing its expression, \n",
    "the function will implicitly return None. None is a special built-in value in Python that represents the absence of \n",
    "a value or the lack of a return value."
   ]
  },
  {
   "cell_type": "code",
   "execution_count": null,
   "id": "aec347d6",
   "metadata": {},
   "outputs": [],
   "source": [
    "9. How do you make a function variable refer to the global variable?\n",
    "\n",
    "==>\n",
    "\n",
    "If you want to make a function variable refer to the global variable (i.e., use the global variable inside the function), \n",
    "you can use the global keyword within the function. This keyword allows you to declare that a variable inside the function \n",
    "should be treated as a global variable, rather than creating a new local variable with the same name."
   ]
  },
  {
   "cell_type": "code",
   "execution_count": null,
   "id": "8b87de1d",
   "metadata": {},
   "outputs": [],
   "source": [
    "10. What is the data type of None?\n",
    "\n",
    "==>\n",
    "\n",
    "None is a special data type that represents the absence of a value. \n",
    "It is often used to signify that a variable or function does not have a valid value or that a particular \n",
    "operation did not produce a meaningful result.The data type of None is simply called NoneType.None is not the same as False,\n",
    "an empty string '', or the number 0. Each of these values has its own specific meaning, \n",
    "but None specifically represents the lack of any value."
   ]
  },
  {
   "cell_type": "code",
   "execution_count": null,
   "id": "bb70de6f",
   "metadata": {},
   "outputs": [],
   "source": [
    "11. What does the sentence import areallyourpetsnamederic do?\n",
    "\n",
    "==>\n",
    "\n",
    "The import statement is used to import modules, which are files containing Python code that can be used in other programs. \n",
    "The areallyourpetsnamederic part in the sentence appears to be an arbitrary and non-existent module name, and as a result, \n",
    "trying to execute this statement would raise a ModuleNotFoundError because Python cannot find a module \n",
    "named areallyourpetsnamederic."
   ]
  },
  {
   "cell_type": "code",
   "execution_count": null,
   "id": "c872f625",
   "metadata": {},
   "outputs": [],
   "source": [
    "12. If you had a bacon() feature in a spam module, what would you call it after importing spam?\n",
    "\n",
    "==>\n",
    "\n",
    "spam is the name of the module, and bacon() is a function or feature defined within that module. \n",
    "By using the module name followed by a dot (spam.), you can access the bacon() feature and call the function. \n",
    "This is how you call functions or access variables defined in a module after importing it in Python."
   ]
  },
  {
   "cell_type": "code",
   "execution_count": null,
   "id": "dfc600f3",
   "metadata": {},
   "outputs": [],
   "source": [
    "13. What can you do to save a programme from crashing if it encounters an error?\n",
    "\n",
    "==>\n",
    "\n",
    "To save a program from crashing when it encounters an error, you can use error handling techniques to gracefully handle \n",
    "the exceptions or errors that might occur during program execution. In Python, this is achieved using the try, except, else, \n",
    "and finally blocks. Error handling allows you to catch and handle exceptions, perform appropriate actions, \n",
    "and prevent the program from terminating abruptly."
   ]
  },
  {
   "cell_type": "code",
   "execution_count": null,
   "id": "6a880781",
   "metadata": {},
   "outputs": [],
   "source": [
    "14. What is the purpose of the try clause? What is the purpose of the except clause?\n",
    "\n",
    "==>\n",
    "\n",
    "Purpose of the try clause:\n",
    "\n",
    "The try clause is used to enclose the code that might raise an exception. It defines a block of code where you anticipate \n",
    "the occurrence of an exception.\n",
    "When Python encounters a try block, it attempts to execute the code inside it. \n",
    "If an exception occurs during the execution of the try block, Python immediately jumps to the \n",
    "corresponding except block without terminating the program.\n",
    "The primary purpose of the try clause is to identify potential error-prone areas in your code \n",
    "and to allow the program to recover gracefully from exceptions instead of crashing abruptly.\n",
    "\n",
    "Purpose of the except clause:\n",
    "\n",
    "The except clause is used to specify how to handle exceptions raised within the try block. \n",
    "It defines a block of code that should be executed when a particular type of exception occurs.\n",
    "When an exception is raised in the try block, Python checks if the type of the exception matches any of the except blocks. \n",
    "If it finds a match, it jumps to that specific except block and executes the code within it.\n",
    "The purpose of the except clause is to catch and handle exceptions, providing an opportunity to log the error, \n",
    "display meaningful messages to users, or perform any necessary cleanup operations without letting the exception crash the program."
   ]
  }
 ],
 "metadata": {
  "kernelspec": {
   "display_name": "Python 3 (ipykernel)",
   "language": "python",
   "name": "python3"
  },
  "language_info": {
   "codemirror_mode": {
    "name": "ipython",
    "version": 3
   },
   "file_extension": ".py",
   "mimetype": "text/x-python",
   "name": "python",
   "nbconvert_exporter": "python",
   "pygments_lexer": "ipython3",
   "version": "3.10.9"
  }
 },
 "nbformat": 4,
 "nbformat_minor": 5
}
