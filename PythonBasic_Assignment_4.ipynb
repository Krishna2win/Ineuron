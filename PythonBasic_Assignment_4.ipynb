{
 "cells": [
  {
   "cell_type": "code",
   "execution_count": null,
   "id": "8ebcc688",
   "metadata": {},
   "outputs": [],
   "source": [
    "1. What exactly is []?\n",
    "\n",
    "==>\n",
    "\n",
    "It is essential to understand the context in which [] is used to determine its exact meaning in a specific programming language\n",
    "or scenario. It is a common way to initialize an empty data structure that can later be populated with elements as needed."
   ]
  },
  {
   "cell_type": "code",
   "execution_count": null,
   "id": "238f3109",
   "metadata": {},
   "outputs": [],
   "source": [
    "2. In a list of values stored in a variable called spam, how would you assign the valueTo assign the value 'hello' as the third value in the list stored in the variable spam, you can use the index notation in Python.  'hello' as the\n",
    "third value? (Assume [2, 4, 6, 8, 10] are in spam.)\n",
    "\n",
    "==>\n",
    "\n",
    "To assign the value 'hello' as the third value in the list stored in the variable spam, \n",
    "you can use the index notation in Python. \n",
    "spam = [2, 4, 6, 8, 10]\n",
    "spam[2] = 'hello'\n",
    "print(spam)\n"
   ]
  },
  {
   "cell_type": "code",
   "execution_count": null,
   "id": "fa8b3753",
   "metadata": {},
   "outputs": [],
   "source": [
    "3. What is the value of spam[int(int('3' * 2) / 11)]?\n",
    "\n",
    "==>\n",
    "\n",
    "'3' * 2: This multiplies the string '3' by 2, resulting in the string '33'.\n",
    "int('33'): This converts the string '33' to an integer, resulting in the value 33.\n",
    "int('33') / 11: This performs integer division, resulting in 3.\n",
    "So, the expression spam[int(int('3' * 2) / 11)] is equivalent to spam[3].\n",
    "\n",
    "Given that spam is initially defined as ['a', 'b', 'c', 'd'], accessing the element at index 3 gives us the value 'd'.\n",
    "\n",
    "Therefore, the value of spam[int(int('3' * 2) / 11)] is 'd'."
   ]
  },
  {
   "cell_type": "code",
   "execution_count": null,
   "id": "4df0266c",
   "metadata": {},
   "outputs": [],
   "source": [
    "4. What is the value of spam[-1]?\n",
    "\n",
    "==>\n",
    "\n",
    "The negative indices in lists (and other sequences) represent counting elements from the end of the list. -1 \n",
    "specifically refers to the last element of the list. So, spam[-1] will give you the value of the last element in the list spam.\n",
    "\n",
    "Given that spam is defined as ['a', 'b', 'c', 'd'], accessing the element at index -1 gives us the last element, which is 'd'.\n",
    "\n",
    "Therefore, the value of spam[-1] is 'd'."
   ]
  },
  {
   "cell_type": "code",
   "execution_count": null,
   "id": "c9b9d4bc",
   "metadata": {},
   "outputs": [],
   "source": [
    "5. What is the value of spam[:2]?\n",
    "\n",
    "==>\n",
    "\n",
    "The slicing notation allows you to extract a portion of a list or other sequence based on a range of indices. \n",
    "The notation spam[:2] indicates that you want to slice the list spam from the beginning (index 0) up to, but not including, \n",
    "index 2.\n",
    "\n",
    "Given that spam is defined as ['a', 'b', 'c', 'd'], slicing spam[:2] will give you a new list containing the elements \n",
    "from index 0 up to (but not including) index 2.\n",
    "\n",
    "So, the value of spam[:2] is ['a', 'b']."
   ]
  },
  {
   "cell_type": "code",
   "execution_count": null,
   "id": "4bb1d8b4",
   "metadata": {},
   "outputs": [],
   "source": [
    "6. What is the value of bacon.index('cat')?\n",
    "\n",
    "==>\n",
    "\n",
    "The value of bacon.index('cat') is 1, which is the index of the first occurrence of 'cat' in the list."
   ]
  },
  {
   "cell_type": "code",
   "execution_count": null,
   "id": "a60ca670",
   "metadata": {},
   "outputs": [],
   "source": [
    "7. How does bacon.append(99) change the look of the list value in bacon?\n",
    "\n",
    "==>\n",
    "\n",
    "After calling bacon.append(99), the list bacon will now look like [3.14, 'cat', 11, 'cat', True, 99], with 99 being \n",
    "the new last element in the list. The original elements are preserved, and the value 99 is added to the end of the list."
   ]
  },
  {
   "cell_type": "code",
   "execution_count": null,
   "id": "7885def2",
   "metadata": {},
   "outputs": [],
   "source": [
    "8. How does bacon.remove('cat') change the look of the list in bacon?\n",
    "\n",
    "==>\n",
    "\n",
    "After calling bacon.remove('cat'), the first occurrence of the value 'cat' is removed from the list bacon. \n",
    "The resulting list will look like [3.14, 11, 'cat', True, 99]."
   ]
  },
  {
   "cell_type": "code",
   "execution_count": null,
   "id": "ef09c113",
   "metadata": {},
   "outputs": [],
   "source": [
    "9. What are the list concatenation and list replication operators?\n",
    "\n",
    "==>\n",
    "\n",
    "List Concatenation Operator (+):\n",
    "The + operator is used for list concatenation. It allows you to combine two or more lists into a single list.\n",
    "When you use the + operator with two lists, it creates a new list that contains all the elements from the first list \n",
    "followed by all the elements from the second list.\n",
    "\n",
    "List Replication Operator (*):\n",
    "The * operator is used for list replication. It allows you to create a new list by repeating the elements \n",
    "of an existing list a specified number of times."
   ]
  },
  {
   "cell_type": "code",
   "execution_count": null,
   "id": "eb68cdd7",
   "metadata": {},
   "outputs": [],
   "source": [
    "10. What is difference between the list methods append() and insert()?\n",
    "\n",
    "==>\n",
    "\n",
    "append() method:\n",
    "The append() method is used to add an element to the end of a list. It takes a single argument, which is the element \n",
    "you want to add, and it always adds the element at the end of the list, increasing the list's length by one.\n",
    "\n",
    "insert() method:\n",
    "The insert() method is used to add an element at a specific index within the list.\n",
    "It takes two arguments: the index where you want to insert the element and the element itself. \n",
    "It inserts the element at the specified index, shifting existing elements to the right."
   ]
  },
  {
   "cell_type": "code",
   "execution_count": null,
   "id": "ffca51e6",
   "metadata": {},
   "outputs": [],
   "source": [
    "11. What are the two methods for removing items from a list?\n",
    "\n",
    "==>\n",
    "\n",
    "remove() method:\n",
    "The remove() method is used to remove the first occurrence of a specific value from the list. \n",
    "It takes a single argument, which is the value you want to remove. \n",
    "If the value exists multiple times in the list, only the first occurrence will be removed.\n",
    "\n",
    "pop() method:\n",
    "The pop() method is used to remove an element from the list at a specific index. \n",
    "It takes an optional argument, which is the index of the element you want to remove. \n",
    "If no index is provided, it removes the last element from the list."
   ]
  },
  {
   "cell_type": "code",
   "execution_count": null,
   "id": "3e251ce6",
   "metadata": {},
   "outputs": [],
   "source": [
    "12. Describe how list values and string values are identical.\n",
    "\n",
    "==>\n",
    "\n",
    "Indexing: \n",
    "    Both lists and strings are sequences of elements, which means you can access individual elements by using indexing. \n",
    "    In Python, both lists and strings use zero-based indexing, where the first element has an index of 0, \n",
    "    the second element has an index of 1, and so on.\n",
    "\n",
    "Slicing: \n",
    "    Both lists and strings support slicing, allowing you to extract sub-sequences from them.\n",
    "    \n",
    "Iteration: \n",
    "    You can iterate over both lists and strings using loops (e.g., for loop)."
   ]
  },
  {
   "cell_type": "code",
   "execution_count": null,
   "id": "7bc31702",
   "metadata": {},
   "outputs": [],
   "source": [
    "13. What is the difference between tuples and lists?\n",
    "\n",
    "==>\n",
    "\n",
    "Tuples and lists are both used to store collections of items in Python, but they have some key differences:\n",
    "\n",
    "Mutability:\n",
    "    Lists are mutable, which means you can change their elements after they are created. \n",
    "    You can add, remove, or modify elements in a list.\n",
    "    Tuples, on the other hand, are immutable. Once a tuple is created, you cannot change, add, or \n",
    "    remove elements from it. Tuples are fixed in size and content.\n",
    "    \n",
    "Syntax:\n",
    "    Lists are enclosed in square brackets [ ].\n",
    "    Tuples are enclosed in parentheses ( ), but you can also define them without parentheses, using commas to separate elements.\n",
    "    \n",
    "Usage and Purpose:\n",
    "    Lists are typically used when you need a collection of elements that can change over time or \n",
    "    when you want to perform various operations like adding, removing, or sorting elements.\n",
    "    Tuples are often used when you want to store a fixed collection of elements that should remain \n",
    "    constant throughout the program. They are also useful for returning multiple values from a function."
   ]
  },
  {
   "cell_type": "code",
   "execution_count": null,
   "id": "ea13a7ea",
   "metadata": {},
   "outputs": [],
   "source": [
    "14. How do you type a tuple value that only contains the integer 42?\n",
    "\n",
    "==>\n",
    "\n",
    "Here is how you type a tuple value that only contains the integer 42:   my_tuple = (42)\n",
    "\n"
   ]
  },
  {
   "cell_type": "code",
   "execution_count": null,
   "id": "29eaee21",
   "metadata": {},
   "outputs": [],
   "source": [
    "15. How do you get a list values tuple form? How do you get a tuple values list form?\n",
    "\n",
    "==>\n",
    "\n",
    "Here is how to get a list values tuple form:\n",
    "\n",
    "my_list = [1, 2, 3, 4]\n",
    "my_tuple = tuple(my_list)\n",
    "print(my_tuple)\n",
    "\n",
    "Here is how to get a tuple values list form:\n",
    "\n",
    "my_tuple = (10, 20, 30, 40)\n",
    "my_list = list(my_tuple)\n",
    "print(my_list)"
   ]
  },
  {
   "cell_type": "code",
   "execution_count": null,
   "id": "e29eca7a",
   "metadata": {},
   "outputs": [],
   "source": [
    "16. Variables that \"contain\" list values are not necessarily lists themselves. Instead, what do they contain?\n",
    "\n",
    "==>\n",
    "\n",
    "Variables that contain list values are not necessarily lists themselves. Instead, they are called \"references\" or \"references to lists.\"\n",
    "\n",
    "In Python, variables are essentially labels or references to objects stored in memory. \n",
    "When you assign a list to a variable, the variable is pointing to the memory location where the list is stored. \n",
    "So, the variable is essentially a reference to the list."
   ]
  },
  {
   "cell_type": "code",
   "execution_count": null,
   "id": "073b2664",
   "metadata": {},
   "outputs": [],
   "source": [
    "17. How do you distinguish between copy.copy() and copy.deepcopy()?\n",
    "\n",
    "==>\n",
    "\n",
    "copy.copy() creates a shallow copy with shared references to nested objects, \n",
    "while copy.deepcopy() creates a deep copy with independent copies of all nested objects. \n",
    "The choice between them depends on the complexity and nesting level of the data structures you are working with \n",
    "and whether you want changes to be isolated between the original and copied objects."
   ]
  }
 ],
 "metadata": {
  "kernelspec": {
   "display_name": "Python 3 (ipykernel)",
   "language": "python",
   "name": "python3"
  },
  "language_info": {
   "codemirror_mode": {
    "name": "ipython",
    "version": 3
   },
   "file_extension": ".py",
   "mimetype": "text/x-python",
   "name": "python",
   "nbconvert_exporter": "python",
   "pygments_lexer": "ipython3",
   "version": "3.10.9"
  }
 },
 "nbformat": 4,
 "nbformat_minor": 5
}
