{
 "cells": [
  {
   "cell_type": "code",
   "execution_count": null,
   "id": "b2ed4ac0",
   "metadata": {},
   "outputs": [],
   "source": [
    "1. Write a Python Program to Find the Factorial of a Number?\n",
    "\n",
    "==>\n",
    "\n",
    "num = int(input())\n",
    "fact = 1\n",
    "for i in range(1, num+1):\n",
    "    fact = fact * i\n",
    "print (fact)\n"
   ]
  },
  {
   "cell_type": "code",
   "execution_count": null,
   "id": "050b2240",
   "metadata": {},
   "outputs": [],
   "source": [
    "2. Write a Python Program to Display the multiplication Table?\n",
    "\n",
    "==>\n",
    "\n",
    "numb = int(input(\" Enter a number : \"))    \n",
    "     \n",
    "print(\"Table of: \")  \n",
    "\n",
    "for a in range(1,11):    \n",
    "\n",
    "   print(num,'x',a,'=',num*a)  "
   ]
  },
  {
   "cell_type": "code",
   "execution_count": null,
   "id": "4d8dc4cf",
   "metadata": {},
   "outputs": [],
   "source": [
    "3. Write a Python Program to Print the Fibonacci sequence?\n",
    "\n",
    "==>\n",
    "\n",
    "n = int(input(\"Enter length of Fibonacci series: \"))\n",
    "num1 = 0\n",
    "num2 = 1\n",
    "next_number = 0\n",
    "count = 1\n",
    "\n",
    "while(count <= n):\n",
    "    print(next_number, end=\" \")\n",
    "    count += 1\n",
    "    num1 = num2\n",
    "    num2 = next_number\n",
    "    next_number = num1 + num2\n",
    "    t_number = num1 + num2\n"
   ]
  },
  {
   "cell_type": "code",
   "execution_count": null,
   "id": "1b097b3b",
   "metadata": {},
   "outputs": [],
   "source": [
    "4. Write a Python Program to Check Armstrong Number?\n",
    "\n",
    "==>\n",
    "\n",
    "num = int(input(\"Enter a number: \"))\n",
    "\n",
    "sum = 0\n",
    "n1 = len(str(num))\n",
    "temp = num\n",
    "while temp > 0:\n",
    "   digit = temp % 10\n",
    "   sum += digit ** n1\n",
    "   temp //= 10\n",
    "\n",
    "if num == sum:\n",
    "   print(num,\"is an Armstrong number\")\n",
    "else:\n",
    "   print(num,\"is not an Armstrong number\")"
   ]
  },
  {
   "cell_type": "code",
   "execution_count": null,
   "id": "e052e21d",
   "metadata": {},
   "outputs": [],
   "source": [
    "5. Write a Python Program to Find Armstrong Number in an Interval?\n",
    "\n",
    "==>\n",
    "\n",
    "lower = int(input(\"Enter lower range: \"))\n",
    "upper = int(input(\"Enter upper range: \"))\n",
    " \n",
    "for num in range(lower,upper + 1):\n",
    "   sum = 0\n",
    "\n",
    "   temp = num\n",
    "   while temp > 0:\n",
    "       digit = temp % 10\n",
    "       sum += digit ** 3\n",
    "       temp //= 10\n",
    " \n",
    "   if num == sum:\n",
    "       print(num)"
   ]
  },
  {
   "cell_type": "code",
   "execution_count": null,
   "id": "5b9868cf",
   "metadata": {},
   "outputs": [],
   "source": [
    "6. Write a Python Program to Find the Sum of Natural Numbers?\n",
    "\n",
    "==>\n",
    "\n",
    "n=int(input(\"Enter a number: \"))\n",
    "sum1 = 0\n",
    "while(n > 0):\n",
    "    sum1=sum1+n\n",
    "    n=n-1\n",
    "print(\"The sum of first n natural numbers is\",sum1)"
   ]
  }
 ],
 "metadata": {
  "kernelspec": {
   "display_name": "Python 3 (ipykernel)",
   "language": "python",
   "name": "python3"
  },
  "language_info": {
   "codemirror_mode": {
    "name": "ipython",
    "version": 3
   },
   "file_extension": ".py",
   "mimetype": "text/x-python",
   "name": "python",
   "nbconvert_exporter": "python",
   "pygments_lexer": "ipython3",
   "version": "3.10.9"
  }
 },
 "nbformat": 4,
 "nbformat_minor": 5
}
