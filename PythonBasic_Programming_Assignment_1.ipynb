{
 "cells": [
  {
   "cell_type": "code",
   "execution_count": null,
   "id": "ee740f58",
   "metadata": {},
   "outputs": [],
   "source": [
    "1. Write a Python program to print \"Hello Python\"?\n",
    "\n",
    "==>\n",
    "\n",
    "print(\"Hello Python\")\n"
   ]
  },
  {
   "cell_type": "code",
   "execution_count": null,
   "id": "a59c248e",
   "metadata": {},
   "outputs": [],
   "source": [
    "2. Write a Python program to do arithmetical operations addition and division.?\n",
    "\n",
    "==>\n",
    "\n",
    "num1 = float(input(\" Please Enter the First Value Number 1: \"))\n",
    "num2 = float(input(\" Please Enter the Second Value Number 2: \"))\n",
    "\n",
    "add = num1 + num2\n",
    "sub = num1 - num2\n",
    "\n",
    "print(\"The Sum of {0} and {1} = {2}\".format(num1, num2, add))\n",
    "print(\"The Subtraction of {0} from {1} = {2}\".format(num2, num1, sub))"
   ]
  },
  {
   "cell_type": "code",
   "execution_count": null,
   "id": "3683aa04",
   "metadata": {},
   "outputs": [],
   "source": [
    "3. Write a Python program to find the area of a triangle?\n",
    "\n",
    "==>\n",
    "\n",
    "b = int(input(\"Input the base : \"))\n",
    "h = int(input(\"Input the height : \"))\n",
    "\n",
    "area = b*h/2\n",
    "\n",
    "print(\"area = \", area)"
   ]
  },
  {
   "cell_type": "code",
   "execution_count": null,
   "id": "915da236",
   "metadata": {},
   "outputs": [],
   "source": [
    "4. Write a Python program to swap two variables?\n",
    "\n",
    "==>\n",
    "\n",
    "a = input (“Enter the first variable”)\n",
    "\n",
    "b = input (“Enter the second variable”)\n",
    "\n",
    "temp = a\n",
    "\n",
    "a = b \n",
    "\n",
    "b = temp\n",
    "\n",
    "print (“The value of the first variable after swapping is:”, a)\n",
    "\n",
    "print (“The value of the second variable after swapping is:”, b)\n"
   ]
  },
  {
   "cell_type": "code",
   "execution_count": null,
   "id": "2ed4846c",
   "metadata": {},
   "outputs": [],
   "source": [
    "5. Write a Python program to generate a random number?\n",
    "\n",
    "==>\n",
    "\n",
    "import random\n",
    "num = random.random()\n",
    "print(num)\n"
   ]
  }
 ],
 "metadata": {
  "kernelspec": {
   "display_name": "Python 3 (ipykernel)",
   "language": "python",
   "name": "python3"
  },
  "language_info": {
   "codemirror_mode": {
    "name": "ipython",
    "version": 3
   },
   "file_extension": ".py",
   "mimetype": "text/x-python",
   "name": "python",
   "nbconvert_exporter": "python",
   "pygments_lexer": "ipython3",
   "version": "3.10.9"
  }
 },
 "nbformat": 4,
 "nbformat_minor": 5
}
