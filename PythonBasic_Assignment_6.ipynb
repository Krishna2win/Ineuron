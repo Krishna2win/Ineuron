{
 "cells": [
  {
   "cell_type": "code",
   "execution_count": null,
   "id": "abf47607",
   "metadata": {},
   "outputs": [],
   "source": [
    "1. What are escape characters, and how do you use them?\n",
    "\n",
    "==>\n",
    "\n",
    "Newline \\n: It represents the newline character, causing the text to move to the beginning of the next line.\n",
    "\n",
    "Tab \\t: It represents the tab character, causing horizontal spacing or indentation.\n",
    "\n",
    "Double quote \\\"\": It allows you to include a double quote character within a string literal that is enclosed in double quotes.\n",
    "\n",
    "Single quote \\'': It allows you to include a single quote character within a string literal that is enclosed in single quotes.\n",
    "\n",
    "Backslash \\\\: To include an actual backslash in a string (since its normally used as the escape character itself)."
   ]
  },
  {
   "cell_type": "code",
   "execution_count": null,
   "id": "8539ae34",
   "metadata": {},
   "outputs": [],
   "source": [
    "2. What do the escape characters n and t stand for?\n",
    "\n",
    "==>\n",
    "\n",
    "\\n: Newline\n",
    "The escape sequence \\n represents the newline character. \n",
    "When it is encountered in a string, it causes the text to move to the beginning of the next line. \n",
    "It is often used to insert line breaks or create multiline strings.\n",
    "\n",
    "\\t: Tab\n",
    "The escape sequence \\t represents the tab character. \n",
    "When it is encountered in a string, it causes horizontal spacing or indentation, \n",
    "just like pressing the \"Tab\" key on a keyboard."
   ]
  },
  {
   "cell_type": "code",
   "execution_count": null,
   "id": "ac033427",
   "metadata": {},
   "outputs": [],
   "source": [
    "3. What is the way to include backslash characters in a string?\n",
    "\n",
    "==>\n",
    "\n",
    "To include a backslash \\ character in a string, you need to use an escape character itself. \n",
    "Since the backslash is used as an escape character to represent special characters, \n",
    "you can use \\\\ to include a literal backslash in the string."
   ]
  },
  {
   "cell_type": "code",
   "execution_count": null,
   "id": "d0b8c977",
   "metadata": {},
   "outputs": [],
   "source": [
    "4. The string \"Howl is Moving Castle\" is a correct value. Why isn it the single quote character in the\n",
    "word Howl is not escaped a problem?\n",
    "\n",
    "==>\n",
    "\n",
    "The string \"Howl's Moving Castle\" is a correct value, and the single quote character in the word \"Howl's\" is not causing \n",
    "any problem because of the use of different types of quotes.\n",
    "\n",
    "In the given string, the entire string is enclosed within double quotes (\"), and the word \"Howl's\" \n",
    "contains a single quote character ('). This combination of using double quotes to enclose the string and having a single\n",
    "quote within the string works perfectly fine in many programming languages.\n",
    "\n",
    "In programming languages, using different types of quotes (single quotes ' and double quotes \") can often help avoid escaping issues."
   ]
  },
  {
   "cell_type": "code",
   "execution_count": null,
   "id": "f4b58002",
   "metadata": {},
   "outputs": [],
   "source": [
    "5. How do you write a string of newlines if you do not want to use the n character?\n",
    "\n",
    "==>\n",
    "\n",
    "If you do not want to use the \\n escape character to represent newlines in a string, you can use \n",
    "triple double quotes (\"\"\") or triple single quotes (''') to create a multiline string. \n",
    "This way, you can include newlines directly in the string without the need for escape characters."
   ]
  },
  {
   "cell_type": "code",
   "execution_count": null,
   "id": "60d66d33",
   "metadata": {},
   "outputs": [],
   "source": [
    "6. What are the values of the given expressions?\n",
    "'Hello, world![1]\n",
    "'Hello, world![0:5]\n",
    "'Hello, world![:5]\n",
    "'Hello, world![3:]\n",
    "\n",
    "==>\n",
    "\n",
    "'Hello, world!'[1]\n",
    "This expression accesses the character at index 1 in the string 'Hello, world!'. I\n",
    "n Python, strings are zero-indexed, meaning the first character has an index of 0, the second character has an index of 1, and so on.\n",
    "Result: 'e'\n",
    "\n",
    "'Hello, world!'[0:5]\n",
    "This expression is a string slice that extracts characters from index 0 up to (but not including) index 5\n",
    "in the string 'Hello, world!'.\n",
    "Result: 'Hello'\n",
    "\n",
    "'Hello, world!'[:5]\n",
    "This expression is another string slice, but when you omit the start index, it assumes 0 as the default \n",
    "start index. So, it extracts characters from the beginning of the string up to (but not including) index 5.\n",
    "Result: 'Hello'\n",
    "\n",
    "'Hello, world!'[3:]\n",
    "This expression is a string slice that starts from index 3 and includes all characters until \n",
    "the end of the string 'Hello, world!'.\n",
    "Result: 'lo, world!'"
   ]
  },
  {
   "cell_type": "code",
   "execution_count": null,
   "id": "3e0c85bb",
   "metadata": {},
   "outputs": [],
   "source": [
    "7. What are the values of the following expressions?\n",
    "'Hello'.upper()\n",
    "'Hello'.upper().isupper()\n",
    "'Hello'.upper().lower()\n",
    "\n",
    "==>\n",
    "\n",
    "'Hello'.upper()\n",
    "The upper() method is used to convert all characters in the string to uppercase. \n",
    "It returns a new string with all uppercase characters.\n",
    "Result: 'HELLO'\n",
    "\n",
    "'Hello'.upper().isupper()\n",
    "Here, we are chaining methods. First, 'Hello'.upper() converts the string to uppercase, resulting in 'HELLO'. \n",
    "Then, the isupper() method is used to check if all characters in the string are uppercase. It returns a boolean value.\n",
    "Result: True\n",
    "\n",
    "'Hello'.upper().lower()\n",
    "Again, we have a chain of methods. First, 'Hello'.upper() converts the string to uppercase, resulting in 'HELLO'. \n",
    "Then, the lower() method is used to convert all characters in the string to lowercase.\n",
    "Result: 'hello'"
   ]
  },
  {
   "cell_type": "code",
   "execution_count": null,
   "id": "715cb662",
   "metadata": {},
   "outputs": [],
   "source": [
    "8. What are the values of the following expressions?\n",
    "'Remember, remember, the fifth of July.'.split()\n",
    "'-'.join('There can only one.'.split())\n",
    "\n",
    "==>\n",
    "\n",
    "'Remember, remember, the fifth of July.'.split()\n",
    "The split() method is used to split a string into a list of substrings based on whitespace by default. \n",
    "If no argument is given to split(), it will split the string on any whitespace characters (spaces, tabs, newlines). \n",
    "Since we did not provide any arguments, it will split the string at each space.\n",
    "Result: ['Remember,', 'remember,', 'the', 'fifth', 'of', 'July.']\n",
    "\n",
    "'-'.join('There can only one.'.split())\n",
    "In this expression, we first use the split() method to split the string 'There can only one.' at each space, \n",
    "resulting in a list of words ['There', 'can', 'only', 'one.']. Then, we use the join() method to join the elements of \n",
    "the list using the specified delimiter, which is '-' in this case.\n",
    "Result: 'There-can-only-one.'"
   ]
  },
  {
   "cell_type": "code",
   "execution_count": null,
   "id": "dc8a8160",
   "metadata": {},
   "outputs": [],
   "source": [
    "9. What are the methods for right-justifying, left-justifying, and centering a string?\n",
    "\n",
    "==>\n",
    "\n",
    "Right-justifying a string: str.rjust(width, fillchar)\n",
    "The rjust() method right-justifies a string within a field of the specified width. \n",
    "It pads the left side of the string with the fillchar (a character) if the string is length is less than the specified width.\n",
    "\n",
    "    Parameters:\n",
    "        width: The total width of the field in which the string is right-justified.\n",
    "        fillchar: (optional) The character used for padding. If not specified, it defaults to a space.\n",
    "\n",
    "            \n",
    "Left-justifying a string: str.ljust(width, fillchar)\n",
    "The ljust() method left-justifies a string within a field of the specified width. It pads the right side of the \n",
    "string with the fillchar (a character) if the string is length is less than the specified width.\n",
    "\n",
    "    Parameters:\n",
    "        width: The total width of the field in which the string is left-justified.\n",
    "        fillchar: (optional) The character used for padding. If not specified, it defaults to a space.    "
   ]
  },
  {
   "cell_type": "code",
   "execution_count": null,
   "id": "fe1e973d",
   "metadata": {},
   "outputs": [],
   "source": [
    "10. What is the best way to remove whitespace characters from the start or end?\n",
    "\n",
    "==>\n",
    "\n",
    "The best way to remove whitespace characters from the start or end of a string in Python is to use the strip() method. \n",
    "The strip() method removes leading (start) and trailing (end) whitespace characters (spaces, tabs, and newlines)from the string.\n",
    "\n",
    "There are also variations of strip() if you want to remove whitespace characters from only the start or end of the string:\n",
    "\n",
    "lstrip(): Removes leading (start) whitespace characters.\n",
    "rstrip(): Removes trailing (end) whitespace characters."
   ]
  }
 ],
 "metadata": {
  "kernelspec": {
   "display_name": "Python 3 (ipykernel)",
   "language": "python",
   "name": "python3"
  },
  "language_info": {
   "codemirror_mode": {
    "name": "ipython",
    "version": 3
   },
   "file_extension": ".py",
   "mimetype": "text/x-python",
   "name": "python",
   "nbconvert_exporter": "python",
   "pygments_lexer": "ipython3",
   "version": "3.10.9"
  }
 },
 "nbformat": 4,
 "nbformat_minor": 5
}
